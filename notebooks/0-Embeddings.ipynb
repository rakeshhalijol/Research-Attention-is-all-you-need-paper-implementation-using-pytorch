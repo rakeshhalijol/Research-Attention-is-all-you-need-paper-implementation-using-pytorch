{
 "cells": [
  {
   "cell_type": "code",
   "execution_count": 1,
   "id": "109906dc",
   "metadata": {},
   "outputs": [
    {
     "data": {
      "text/plain": [
       "1"
      ]
     },
     "execution_count": 1,
     "metadata": {},
     "output_type": "execute_result"
    }
   ],
   "source": [
    "1"
   ]
  },
  {
   "cell_type": "code",
   "execution_count": 2,
   "id": "6589d4f2",
   "metadata": {},
   "outputs": [],
   "source": [
    "import math\n",
    "import torch\n",
    "import torch.nn as nn\n",
    "\n"
   ]
  },
  {
   "cell_type": "code",
   "execution_count": 4,
   "id": "60e321d3",
   "metadata": {},
   "outputs": [],
   "source": [
    "data = torch.arange(2 * 10 * 8).reshape(2, 10, 8)"
   ]
  },
  {
   "cell_type": "code",
   "execution_count": 10,
   "id": "882a6d3b",
   "metadata": {},
   "outputs": [],
   "source": [
    "embed_layer = nn.Embedding(10, 8)"
   ]
  },
  {
   "cell_type": "code",
   "execution_count": 11,
   "id": "638e3ca8",
   "metadata": {},
   "outputs": [
    {
     "data": {
      "text/plain": [
       "Parameter containing:\n",
       "tensor([[-0.5682,  0.2365,  0.4466,  1.5534,  0.7195, -0.5279, -0.4835, -0.7967],\n",
       "        [ 0.0880,  1.1688,  0.8962, -1.5432, -0.0576, -0.0074, -0.0366,  0.4894],\n",
       "        [ 0.1531,  0.0216,  0.0141,  0.0025,  0.9298,  1.2335,  1.1933,  0.4930],\n",
       "        [ 0.4731,  0.5061, -2.0542, -0.6085, -0.1235, -0.3656, -0.0900,  0.3525],\n",
       "        [ 0.8989,  1.0363, -1.4818,  1.0898, -1.7786, -0.0966,  0.5636, -0.0623],\n",
       "        [ 1.5719, -0.0998,  0.6513, -0.2432, -0.5425, -0.4166,  0.8427,  0.2778],\n",
       "        [ 2.4718,  0.6194, -0.3489, -0.3322, -1.6501, -0.6478, -1.7220, -1.6528],\n",
       "        [ 0.3592, -1.6990, -1.2199,  0.3726, -1.0013,  0.0285,  0.9852,  1.2008],\n",
       "        [ 1.4471,  1.3324, -0.0889, -1.1886,  1.2140,  0.5410,  1.9615, -0.5410],\n",
       "        [ 0.2308, -0.8538,  0.5809,  0.8850, -1.0579,  0.6909, -0.6828, -0.1437]],\n",
       "       requires_grad=True)"
      ]
     },
     "execution_count": 11,
     "metadata": {},
     "output_type": "execute_result"
    }
   ],
   "source": [
    "embed_layer.get_parameter(\"weight\")"
   ]
  },
  {
   "cell_type": "code",
   "execution_count": 12,
   "id": "3089dc46",
   "metadata": {},
   "outputs": [],
   "source": [
    "class TokenEmbeddings(nn.Module):\n",
    "    def __init__(self, vocab_size:int, embed_dim:int):\n",
    "        super().__init__()\n",
    "        self.embed_dim = embed_dim\n",
    "        self.embeddings = nn.Embedding(vocab_size, embed_dim)\n",
    "\n",
    "    def forward(self, x:torch.Tensor) -> torch.Tensor:\n",
    "        return self.embeddings(x) * math.sqrt(self.embed_dim)\n"
   ]
  },
  {
   "cell_type": "code",
   "execution_count": 14,
   "id": "4122db8c",
   "metadata": {},
   "outputs": [
    {
     "name": "stdout",
     "output_type": "stream",
     "text": [
      "Input shape:  torch.Size([2, 5])\n",
      "Output shape: torch.Size([2, 5, 512])\n"
     ]
    }
   ],
   "source": [
    "# Parameters\n",
    "vocab_size = 1000  # e.g., 1000 words in vocab\n",
    "embed_dim = 512    # e.g., embedding size per token\n",
    "\n",
    "# Sample input (batch_size=2, seq_len=5)\n",
    "sample_input = torch.tensor([\n",
    "    [1, 5, 23, 67, 2],\n",
    "    [45, 234, 12, 6, 8]\n",
    "])  # shape: [2, 5]\n",
    "\n",
    "# Initialize embedding layer\n",
    "embedding_layer = TokenEmbeddings(vocab_size, embed_dim)\n",
    "\n",
    "# Forward pass\n",
    "output = embedding_layer(sample_input)\n",
    "\n",
    "# Check shape\n",
    "print(\"Input shape: \", sample_input.shape)     # [2, 5]\n",
    "print(\"Output shape:\", output.shape)           # [2, 5, 512]\n"
   ]
  },
  {
   "cell_type": "code",
   "execution_count": null,
   "id": "923926c4",
   "metadata": {},
   "outputs": [
    {
     "data": {
      "text/plain": [
       "512"
      ]
     },
     "execution_count": 18,
     "metadata": {},
     "output_type": "execute_result"
    }
   ],
   "source": []
  },
  {
   "cell_type": "code",
   "execution_count": null,
   "id": "80712c39",
   "metadata": {},
   "outputs": [],
   "source": []
  }
 ],
 "metadata": {
  "kernelspec": {
   "display_name": "Attention is all you need",
   "language": "python",
   "name": "python3"
  },
  "language_info": {
   "codemirror_mode": {
    "name": "ipython",
    "version": 3
   },
   "file_extension": ".py",
   "mimetype": "text/x-python",
   "name": "python",
   "nbconvert_exporter": "python",
   "pygments_lexer": "ipython3",
   "version": "3.11.4"
  }
 },
 "nbformat": 4,
 "nbformat_minor": 5
}
