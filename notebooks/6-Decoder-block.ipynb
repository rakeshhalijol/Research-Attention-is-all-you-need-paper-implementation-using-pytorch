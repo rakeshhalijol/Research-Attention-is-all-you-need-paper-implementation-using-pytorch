{
 "cells": [
  {
   "cell_type": "code",
   "execution_count": 1,
   "id": "4f634d15",
   "metadata": {},
   "outputs": [
    {
     "data": {
      "text/plain": [
       "1"
      ]
     },
     "execution_count": 1,
     "metadata": {},
     "output_type": "execute_result"
    }
   ],
   "source": [
    "1"
   ]
  },
  {
   "cell_type": "code",
   "execution_count": 2,
   "id": "a1e6dd98",
   "metadata": {},
   "outputs": [],
   "source": [
    "import torch\n",
    "import math\n",
    "import torch.nn as nn\n",
    "from typing_extensions import Annotated\n",
    "\n",
    "\n",
    "class PositionalEncoding(nn.Module):\n",
    "    def __init__(self,\n",
    "                 max_len: Annotated[int, \"It means how many no of words are there in a sequence\"],\n",
    "                 d_model: Annotated[int, \"It tells in how many dimension each and every word represents\"]) -> None:\n",
    "        super().__init__()\n",
    "        positional_encoder = torch.zeros(\n",
    "            max_len, d_model)  # (max_len, d_model)\n",
    "        position = torch.arange(0, max_len).unsqueeze(\n",
    "            1).float()  # (max_len, 1)\n",
    "\n",
    "        div_term = torch.exp(torch.arange(0, d_model, 2).float(\n",
    "        ) * (-math.log(10000.0) / d_model))  # (d_model//2,)\n",
    "\n",
    "        positional_encoder[:, 0::2] = torch.sin(position * div_term)\n",
    "        positional_encoder[:, 1::2] = torch.cos(position * div_term)\n",
    "\n",
    "        # Shape it to (1, max_len, d_model) for broadcasting with input: (batch_size, seq_len, d_model)\n",
    "        positional_encoder = positional_encoder.unsqueeze(0)\n",
    "\n",
    "        self.register_buffer(\"positional_encoder\", positional_encoder)\n",
    "\n",
    "    def forward(self, input_data: torch.Tensor) -> torch.Tensor:\n",
    "        \"\"\"\n",
    "        input_data: shape (batch_size, seq_len, d_model)\n",
    "        returns: same shape with positional encoding added\n",
    "        \"\"\"\n",
    "        seq_len = input_data.size(1)\n",
    "        return input_data + self.positional_encoder[:, :seq_len]\n"
   ]
  },
  {
   "cell_type": "code",
   "execution_count": 4,
   "id": "85740413",
   "metadata": {},
   "outputs": [],
   "source": [
    "import math\n",
    "import torch\n",
    "import torch.nn as nn\n",
    "from typing import List, Annotated, Union\n",
    "\n",
    "\n",
    "class MultiHeadAttention(nn.Module):\n",
    "    def __init__(self, num_heads: Annotated[int, \"No of self attention needed\"],\n",
    "                 embed_dim: Annotated[int, \"dimension of each word\"],\n",
    "                 bias: Annotated[bool, \"Required bias during trining\"] = False,) -> None:\n",
    "        super().__init__()\n",
    "        assert embed_dim % num_heads == 0, \"embed_dim % num_heads != 0\"\n",
    "        self.num_heads = num_heads\n",
    "        self.embed_dim = embed_dim\n",
    "        self.head_dim = self.embed_dim // self.num_heads\n",
    "        self.wq = nn.Linear(embed_dim, embed_dim, bias=bias)\n",
    "        self.wk = nn.Linear(embed_dim, embed_dim, bias=bias)\n",
    "        self.wv = nn.Linear(embed_dim, embed_dim, bias=bias)\n",
    "        self.output_projection = nn.Linear(self.embed_dim, self.embed_dim)\n",
    "\n",
    "    def forward(self,\n",
    "                q_input: Annotated[torch.Tensor, \"batch of data from the input data\"],\n",
    "                k_input: Union[torch.Tensor, None] = None,\n",
    "                v_input: Union[torch.Tensor, None] = None,\n",
    "                mask: Annotated[bool, \"normal MHA or masked MHA?\"] = False) -> torch.Tensor:\n",
    "        batch = q_input.size(0)\n",
    "\n",
    "        # Below code make sures algorithm is self attention not cross attention\n",
    "        if k_input is None:\n",
    "            k_input = q_input\n",
    "        if v_input is None:\n",
    "            v_input = q_input\n",
    "\n",
    "        q = self.wq(q_input)\n",
    "        k = self.wk(k_input)\n",
    "        v = self.wv(v_input)\n",
    "\n",
    "        # Sequence length can be diffrent for input data and output data\n",
    "        T_q, T_k = q_input.size(1), k_input.size(1)\n",
    "\n",
    "        # Split the q, k, v(embed_dim) dimension as (num_head, embed_dim / num_head)\n",
    "        q = q.reshape(batch, T_q, self.num_heads,\n",
    "                      self.head_dim).transpose(1, 2)\n",
    "        k = k.reshape(batch, T_k, self.num_heads,\n",
    "                      self.head_dim).transpose(1, 2)\n",
    "        v = v.reshape(batch, T_k, self.num_heads,\n",
    "                      self.head_dim).transpose(1, 2)\n",
    "\n",
    "        # Calculate Attention\n",
    "        k_transpose = k.transpose(-2, -1)  # (b, k, d) (b, d, p) = (b, k, p)\n",
    "        score = (q @ k_transpose) / math.sqrt(self.head_dim)\n",
    "        mask = torch.triu(torch.ones(T_q, T_k), diagonal=1).bool(\n",
    "        ) if mask else torch.zeros(T_q, T_k).bool()\n",
    "\n",
    "        # Anyhow broadcasting works no need of unsqeeze but its good practice to\n",
    "        # avoid broadcasting in Attentions, but clearly this step is optional\n",
    "        mask = mask.unsqueeze(0).unsqueeze(0)\n",
    "        score = score.masked_fill(mask, float(\"-inf\"))\n",
    "        attention_score = torch.softmax(score, dim=-1)\n",
    "        attention = attention_score @ v\n",
    "\n",
    "        # concat output of all heads\n",
    "        attention = attention.transpose(1, 2)\n",
    "\n",
    "        # Attention should have sequence of length = output sequence length.\n",
    "        attention = attention.reshape(batch, T_q, self.embed_dim)\n",
    "\n",
    "        # Since they are simple concatination to acutally mix all heads details we need a linear layer\n",
    "\n",
    "        mha_output = self.output_projection(attention)\n",
    "        return mha_output\n"
   ]
  },
  {
   "cell_type": "code",
   "execution_count": 5,
   "id": "58fd7ffe",
   "metadata": {},
   "outputs": [],
   "source": [
    "import math\n",
    "import torch\n",
    "import torch.nn as nn\n",
    "\n",
    "class LayerNormalization(nn.Module):\n",
    "    def __init__(self, embed_dim:int, eps:float = 1e-9) -> None:\n",
    "        super().__init__()\n",
    "        self.alpha = nn.Parameter(torch.ones(embed_dim)).float()\n",
    "        self.beta = nn.Parameter(torch.ones(embed_dim)).float()\n",
    "        self.eps = eps\n",
    "\n",
    "    def forward(self, input_data:torch.Tensor) -> torch.Tensor:\n",
    "        # Assume input dim(2, 3, 6)\n",
    "        mean = torch.mean(input_data, dim=-1, keepdim=True) # (2, 3, 1)\n",
    "        std = torch.std(input_data, dim=-1, keepdim=True) # (2, 3, 1)\n",
    "\n",
    "        # to normalize (2, 3, 6) - (2, 3, 1) = (2, 3, 6) due to broadcasting\n",
    "        normalized_input_data = (input_data - mean) / (std + self.eps)\n",
    "\n",
    "        # some weights do not require normalized output so alpha learnable parameter is introduced \n",
    "        return self.alpha * normalized_input_data + self.beta\n",
    "        "
   ]
  },
  {
   "cell_type": "code",
   "execution_count": 6,
   "id": "405edd74",
   "metadata": {},
   "outputs": [],
   "source": [
    "import math\n",
    "import torch\n",
    "import torch.nn as nn\n",
    "from typing import List, Annotated\n",
    "\n",
    "class FeedForward(nn.Module):\n",
    "    def __init__(self, embed_dim:int, hidden_dim:int, dropout:float = 0.1,  bias:bool = True):\n",
    "        super().__init__()\n",
    "        self.w1 = nn.Linear(embed_dim, hidden_dim, bias=bias)\n",
    "        self.dropout = nn.Dropout(dropout)\n",
    "        self.relu = nn.ReLU()\n",
    "        self.w2 = nn.Linear(hidden_dim, embed_dim, bias=bias)\n",
    "\n",
    "    def forward(self, input_data:torch.Tensor) -> torch.Tensor:\n",
    "        layer = self.w1(input_data)\n",
    "        output = self.relu(layer)\n",
    "        dropout = self.dropout(output)\n",
    "        layer = self.w2(dropout)\n",
    "        \n",
    "        return layer\n"
   ]
  },
  {
   "cell_type": "code",
   "execution_count": 23,
   "id": "2bfbbacf",
   "metadata": {},
   "outputs": [],
   "source": [
    "class DecoderBlock(nn.Module):\n",
    "    def __init__(self, embed_dim:int, hidden_dim:int,num_heads:int, dropout = 0.1, bias:bool = False):\n",
    "        super().__init__()\n",
    "        self.mmha = MultiHeadAttention(num_heads=num_heads, embed_dim=embed_dim)\n",
    "        self.cmha = MultiHeadAttention(num_heads=num_heads, embed_dim=embed_dim)\n",
    "        self.ln1 = LayerNormalization(embed_dim=embed_dim)\n",
    "        self.ln2 = LayerNormalization(embed_dim=embed_dim)\n",
    "        self.ln3 = LayerNormalization(embed_dim=embed_dim)\n",
    "        self.ffn = FeedForward(embed_dim=embed_dim, hidden_dim=hidden_dim, dropout=dropout, bias=bias)\n",
    "        self.dropout = nn.Dropout(dropout)\n",
    "\n",
    "    def forward(self, x:torch.Tensor, encoder_output) -> torch.Tensor:\n",
    "        # Multi-head attention + residual + norm\n",
    "        x_mha = self.mmha(x, mask = True)\n",
    "        x = self.ln1(x + self.dropout(x_mha))\n",
    "\n",
    "        # Cross_Attention\n",
    "        x_cmha = self.cmha(q_input=x, k_input=encoder_output, v_input=encoder_output)\n",
    "        x = self.ln2(x + self.dropout(x_cmha))\n",
    "\n",
    "        # Feedforward + residual + norm\n",
    "        x_ffn = self.ffn(x)\n",
    "        x = self.ln3(x + self.dropout(x_ffn))\n",
    "        return x\n",
    "\n",
    "\n",
    "\n",
    "class Decoder(nn.Module):\n",
    "    def __init__(self, Nx, embed_dim, num_heads, ff_hidden_dim, dropout=0.1):\n",
    "        super().__init__()\n",
    "        self.layers = nn.ModuleList([\n",
    "            DecoderBlock(embed_dim, ff_hidden_dim, num_heads, dropout)\n",
    "            for _ in range(Nx)\n",
    "        ])\n",
    "    \n",
    "    def forward(self, x: torch.Tensor, encoder_output: torch.Tensor) -> torch.Tensor:\n",
    "        for layer in self.layers:\n",
    "            x = layer(x, encoder_output)\n",
    "        return x\n",
    "\n"
   ]
  },
  {
   "cell_type": "markdown",
   "id": "50b0dff6",
   "metadata": {},
   "source": [
    "### Lets build Decoder block SOTA\n",
    "\n",
    "1) lets suppose consider a output sentences of length 100 i.e. (100, 20, 10)"
   ]
  },
  {
   "cell_type": "code",
   "execution_count": 17,
   "id": "009d3192",
   "metadata": {},
   "outputs": [],
   "source": [
    "decoder_input = torch.arange(100 * 20 * 8).reshape(100, 20, 8).float()\n",
    "encoder_output = torch.arange(100 * 10 * 8).reshape(100, 10, 8).float()"
   ]
  },
  {
   "cell_type": "code",
   "execution_count": 20,
   "id": "44dd90c6",
   "metadata": {},
   "outputs": [],
   "source": [
    "pe = PositionalEncoding(20, 8)"
   ]
  },
  {
   "cell_type": "code",
   "execution_count": 21,
   "id": "a063364d",
   "metadata": {},
   "outputs": [],
   "source": [
    "decoder_input = pe(decoder_input)"
   ]
  },
  {
   "cell_type": "code",
   "execution_count": 26,
   "id": "5fa05e86",
   "metadata": {},
   "outputs": [],
   "source": [
    "dc = Decoder(Nx=8,\n",
    "             embed_dim=8,\n",
    "             ff_hidden_dim=1024,\n",
    "             dropout=0.1,\n",
    "             num_heads=2\n",
    "             )\n",
    "\n",
    "decoder_output = dc(decoder_input, encoder_output)"
   ]
  },
  {
   "cell_type": "code",
   "execution_count": 27,
   "id": "51da89c9",
   "metadata": {},
   "outputs": [
    {
     "data": {
      "text/plain": [
       "torch.Size([100, 20, 8])"
      ]
     },
     "execution_count": 27,
     "metadata": {},
     "output_type": "execute_result"
    }
   ],
   "source": [
    "decoder_output.shape"
   ]
  },
  {
   "cell_type": "code",
   "execution_count": null,
   "id": "01d3cbef",
   "metadata": {},
   "outputs": [],
   "source": []
  }
 ],
 "metadata": {
  "kernelspec": {
   "display_name": "Attention is all you need",
   "language": "python",
   "name": "python3"
  },
  "language_info": {
   "codemirror_mode": {
    "name": "ipython",
    "version": 3
   },
   "file_extension": ".py",
   "mimetype": "text/x-python",
   "name": "python",
   "nbconvert_exporter": "python",
   "pygments_lexer": "ipython3",
   "version": "3.11.4"
  }
 },
 "nbformat": 4,
 "nbformat_minor": 5
}
