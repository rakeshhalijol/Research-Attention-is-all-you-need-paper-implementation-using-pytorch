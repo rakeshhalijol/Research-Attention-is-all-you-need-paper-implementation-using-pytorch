{
 "cells": [
  {
   "cell_type": "code",
   "execution_count": 1,
   "id": "9bafd8c6",
   "metadata": {},
   "outputs": [
    {
     "data": {
      "text/plain": [
       "1"
      ]
     },
     "execution_count": 1,
     "metadata": {},
     "output_type": "execute_result"
    }
   ],
   "source": [
    "1"
   ]
  },
  {
   "cell_type": "code",
   "execution_count": 28,
   "id": "6a0621a4",
   "metadata": {},
   "outputs": [],
   "source": [
    "import math\n",
    "import torch\n",
    "import torch.nn as nn\n",
    "\n",
    "class LayerNormalization(nn.Module):\n",
    "    def __init__(self, embed_dim:int, eps:float = 1e-9) -> None:\n",
    "        super().__init__()\n",
    "        self.alpha = nn.Parameter(torch.ones(embed_dim)).float()\n",
    "        self.beta = nn.Parameter(torch.ones(embed_dim)).float()\n",
    "        self.eps = eps\n",
    "\n",
    "    def forward(self, input_data:torch.Tensor) -> torch.Tensor:\n",
    "        # Assume input dim(2, 3, 6)\n",
    "        mean = torch.mean(input_data, dim=-1, keepdim=True) # (2, 3, 1)\n",
    "        std = torch.std(input_data, dim=-1, keepdim=True) # (2, 3, 1)\n",
    "\n",
    "        # to normalize (2, 3, 6) - (2, 3, 1) = (2, 3, 6) due to broadcasting\n",
    "        normalized_input_data = (input_data - mean) / (std + self.eps)\n",
    "\n",
    "        # some weights do not require normalized output so alpha learnable parameter is introduced \n",
    "        return self.alpha * normalized_input_data + self.beta\n",
    "        "
   ]
  },
  {
   "cell_type": "code",
   "execution_count": 29,
   "id": "7313e376",
   "metadata": {},
   "outputs": [
    {
     "data": {
      "text/plain": [
       "tensor([[[ 0.,  1.,  2.,  3.,  4.,  5.],\n",
       "         [ 6.,  7.,  8.,  9., 10., 11.],\n",
       "         [12., 13., 14., 15., 16., 17.]],\n",
       "\n",
       "        [[18., 19., 20., 21., 22., 23.],\n",
       "         [24., 25., 26., 27., 28., 29.],\n",
       "         [30., 31., 32., 33., 34., 35.]]])"
      ]
     },
     "execution_count": 29,
     "metadata": {},
     "output_type": "execute_result"
    }
   ],
   "source": [
    "x = torch.arange(36).reshape(2, 3, 6).float()\n",
    "x"
   ]
  },
  {
   "cell_type": "code",
   "execution_count": 30,
   "id": "1c6ab369",
   "metadata": {},
   "outputs": [
    {
     "data": {
      "text/plain": [
       "(tensor([[[ 2.5000],\n",
       "          [ 8.5000],\n",
       "          [14.5000]],\n",
       " \n",
       "         [[20.5000],\n",
       "          [26.5000],\n",
       "          [32.5000]]]),\n",
       " tensor([[[1.8708],\n",
       "          [1.8708],\n",
       "          [1.8708]],\n",
       " \n",
       "         [[1.8708],\n",
       "          [1.8708],\n",
       "          [1.8708]]]))"
      ]
     },
     "execution_count": 30,
     "metadata": {},
     "output_type": "execute_result"
    }
   ],
   "source": [
    "mean = torch.mean(x, dim=-1, keepdim=True)\n",
    "std = torch.std(x, dim= -1, keepdim=True)\n",
    "mean, std"
   ]
  },
  {
   "cell_type": "code",
   "execution_count": 23,
   "id": "c91afe31",
   "metadata": {},
   "outputs": [
    {
     "data": {
      "text/plain": [
       "tensor([[[-1.3363, -0.8018, -0.2673,  0.2673,  0.8018,  1.3363],\n",
       "         [-1.3363, -0.8018, -0.2673,  0.2673,  0.8018,  1.3363],\n",
       "         [-1.3363, -0.8018, -0.2673,  0.2673,  0.8018,  1.3363]],\n",
       "\n",
       "        [[-1.3363, -0.8018, -0.2673,  0.2673,  0.8018,  1.3363],\n",
       "         [-1.3363, -0.8018, -0.2673,  0.2673,  0.8018,  1.3363],\n",
       "         [-1.3363, -0.8018, -0.2673,  0.2673,  0.8018,  1.3363]]])"
      ]
     },
     "execution_count": 23,
     "metadata": {},
     "output_type": "execute_result"
    }
   ],
   "source": [
    "(x - mean) / std"
   ]
  },
  {
   "cell_type": "code",
   "execution_count": 25,
   "id": "c03fac96",
   "metadata": {},
   "outputs": [
    {
     "data": {
      "text/plain": [
       "(tensor(0.), tensor(1.0000))"
      ]
     },
     "execution_count": 25,
     "metadata": {},
     "output_type": "execute_result"
    }
   ],
   "source": [
    "torch.mean(torch.tensor([-1.3363, -0.8018, -0.2673,  0.2673,  0.8018,  1.3363])), torch.std(torch.tensor([-1.3363, -0.8018, -0.2673,  0.2673,  0.8018,  1.3363]))"
   ]
  },
  {
   "cell_type": "code",
   "execution_count": null,
   "id": "348d10e5",
   "metadata": {},
   "outputs": [],
   "source": []
  }
 ],
 "metadata": {
  "kernelspec": {
   "display_name": "Attention is all you need",
   "language": "python",
   "name": "python3"
  },
  "language_info": {
   "codemirror_mode": {
    "name": "ipython",
    "version": 3
   },
   "file_extension": ".py",
   "mimetype": "text/x-python",
   "name": "python",
   "nbconvert_exporter": "python",
   "pygments_lexer": "ipython3",
   "version": "3.11.4"
  }
 },
 "nbformat": 4,
 "nbformat_minor": 5
}
